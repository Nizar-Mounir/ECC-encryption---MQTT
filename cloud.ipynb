{
 "cells": [
  {
   "cell_type": "code",
   "execution_count": null,
   "metadata": {},
   "outputs": [],
   "source": [
    "from tinyec import registry\n",
    "import secrets\n",
    "\n",
    "curve = registry.get_curve('brainpoolP256r1')\n",
    "\n",
    "def compress_point(point):\n",
    "    return hex(point.x) + hex(point.y % 2)[2:]\n",
    "\n",
    "\n",
    "#--------------------------------------------------------------------\n",
    "#   Generate CLOUD_PRIVATE_KEY and CLOUD_PUBLIC_KEY\n",
    "\n",
    "privKey = secrets.randbelow(curve.field.n)\n",
    "pubKey = privKey * curve.g\n",
    "\n",
    "#--------------------------------------------------------------------\n",
    "\n",
    "\n",
    "def ecc_calc_decryption_key(privKey, ciphertextPubKey):\n",
    "    sharedECCKey = ciphertextPubKey * privKey\n",
    "    return sharedECCKey\n",
    "\n",
    "#--------------------------------------------------------------------\n",
    "#   Connect to an MQTT brocker and publish a topic\n",
    "    #PUBLISH TOPIC\n",
    "    #SEND THE CLOUD_PUBLIC_KEY\n",
    "\n",
    "#--------------------------------------------------------------------\n",
    "#   Connect to an MQTT brocker and subscribe to a topic\n",
    "    #SUBSCRIBE TOPIC\n",
    "    #RECEIVE THE CLIENT_PUBLIC_KEY AND THE ENCRYPTED_DATA\n",
    "    #GENERATE SHARED_KEY BY COUPLE (CLOUD_PRIVATE_KEY,CLIENT_PUBLIC_KEY)\n",
    "\n",
    "\n",
    "\n",
    "#--------------------------------------------------------------------\n",
    "#   Here you can generate your file\n",
    "\n",
    "\n",
    "#   Dencrypt the file using ECC cryption\n",
    "\n",
    "\n",
    "#   Send the file through MQTT to publish data\n",
    "\n",
    "\n",
    "\n",
    "#   END OF CODE\n",
    "\n"
   ]
  }
 ],
 "metadata": {
  "language_info": {
   "name": "python"
  }
 },
 "nbformat": 4,
 "nbformat_minor": 2
}
