{
 "cells": [
  {
   "cell_type": "code",
   "execution_count": 118,
   "metadata": {},
   "outputs": [
    {
     "name": "stdout",
     "output_type": "stream",
     "text": [
      "(54655512832979196897134103175875395757554162851054935082996333119177256325711, 5921012379964209177209690119107008861655417901821246742951023168804478274513) on \"brainpoolP256r1\" => y^2 = x^3 + 56698187605326110043627228396178346077120614539475214109386828188763884139993x + 17577232497321838841075697789794520262950426058923084567046852300633325438902 (mod 76884956397045344220809746629001649093037950200943055203735601445031516197751)\n",
      "Encrypted: bytearray(b'Rtsd-!bsd`uhof!rtbi!`!rxrudl!sdpthsdr!rdwds`m!rudqr!hownmwhof!jdx!fdods`uhno-!dobsxquhno-!`oe!edbsxquhno/!Idsd&r!`!ihfi,mdwdm!dy`lqmd!trhof!Qxuino!vhui!uid!q`in,lpuu!mhcs`sx!gns!LPUU!bnlltohb`uhno!`oe!uid!bsxqunfs`qix!mhcs`sx!gns!DBB!dobsxquhno/Qmd`rd!onud!ui`u!uihr!bned!hr!`!bnobdqut`m!dy`lqmd!`oe!l`x!odde!`ektruldour!c`rde!no!xnts!rqdbhghb!sdpthsdldour!`oe!mhcs`shdr/!@mrn-!dortsd!xnt!i`wd!uid!odbdrr`sx!mhcs`shdr!horu`mmde!)q`in,lpuu!`oe!bsxqunfs`qix(/')\n",
      "Public_Client: (74942621674482596045928432061458990944169062270610754848519793438844854369199, 25932520938264367859755094847767703679428886126102912048465466410056989929472) on \"brainpoolP256r1\" => y^2 = x^3 + 56698187605326110043627228396178346077120614539475214109386828188763884139993x + 17577232497321838841075697789794520262950426058923084567046852300633325438902 (mod 76884956397045344220809746629001649093037950200943055203735601445031516197751)\n",
      "Public_Cloud: (54655512832979196897134103175875395757554162851054935082996333119177256325711, 5921012379964209177209690119107008861655417901821246742951023168804478274513) on \"brainpoolP256r1\" => y^2 = x^3 + 56698187605326110043627228396178346077120614539475214109386828188763884139993x + 17577232497321838841075697789794520262950426058923084567046852300633325438902 (mod 76884956397045344220809746629001649093037950200943055203735601445031516197751)\n",
      "SHARED_1: (64204995307080467059689156941781706520272717814123854141665051096358051014592, 52369252777798736842039482005850970479990928114237232665947970209481016416297) on \"brainpoolP256r1\" => y^2 = x^3 + 56698187605326110043627228396178346077120614539475214109386828188763884139993x + 17577232497321838841075697789794520262950426058923084567046852300633325438902 (mod 76884956397045344220809746629001649093037950200943055203735601445031516197751)\n",
      "SHARED_2: (64204995307080467059689156941781706520272717814123854141665051096358051014592, 52369252777798736842039482005850970479990928114237232665947970209481016416297) on \"brainpoolP256r1\" => y^2 = x^3 + 56698187605326110043627228396178346077120614539475214109386828188763884139993x + 17577232497321838841075697789794520262950426058923084567046852300633325438902 (mod 76884956397045344220809746629001649093037950200943055203735601445031516197751)\n",
      "Decrypted: Sure, creating such a system requires several steps involving key generation, encryption, and decryption. Here's a high-level example using Python with the paho-mqtt library for MQTT communication and the cryptography library for ECC encryption.Please note that this code is a conceptual example and may need adjustments based on your specific requirements and libraries. Also, ensure you have the necessary libraries installed (paho-mqtt and cryptography).\n"
     ]
    }
   ],
   "source": [
    "from tinyec import registry\n",
    "import secrets\n",
    "\n",
    "curve = registry.get_curve('brainpoolP256r1')\n",
    "\n",
    "def compress_point(point):\n",
    "    return hex(point.x) + hex(point.y % 2)[2:]\n",
    "\n",
    "client_privKey = secrets.randbelow(curve.field.n)\n",
    "client_pubKey = client_privKey * curve.g\n",
    "\n",
    "cloud_privKey = secrets.randbelow(curve.field.n)\n",
    "cloud_pubKey = cloud_privKey * curve.g\n",
    "\n",
    "def shared_key(privKey, other_pubKey):\n",
    "    sharedECCKey = other_pubKey * privKey\n",
    "    return sharedECCKey\n",
    "\n",
    "def ecc_encrypt(message, client_privKey, cloud_pubKey):\n",
    "    # Convert the message to bytes\n",
    "    message_bytes = message.encode()\n",
    "\n",
    "    # Generate a random key pair for encryption\n",
    "    encryptKey = shared_key(client_privKey, cloud_pubKey)\n",
    "\n",
    "    # Encrypt the message using the shared ECC encryption key\n",
    "    encrypted = bytearray()\n",
    "    shared_key_hex = compress_point(encryptKey)  # Renamed variable\n",
    "    for byte in message_bytes:\n",
    "        encrypted_byte = byte ^ int(shared_key_hex, 16) % 256  # Limit to byte range\n",
    "        encrypted.append(encrypted_byte)\n",
    "\n",
    "    return encrypted\n",
    "\n",
    "def ecc_decrypt(encrypted, cloud_privKey, client_pubKey):\n",
    "    # Retrieve the shared ECC decryption key\n",
    "    decryptKey = shared_key(cloud_privKey, client_pubKey)\n",
    "\n",
    "    decrypted = bytearray()\n",
    "    shared_key_hex = compress_point(decryptKey)\n",
    "    for byte in encrypted:\n",
    "        decrypted_byte = byte ^ int(shared_key_hex, 16) % 256  # Limit to byte range\n",
    "        decrypted.append(decrypted_byte)\n",
    "\n",
    "    # Convert the decrypted bytes back to string\n",
    "    decrypted_message = decrypted.decode()\n",
    "    return decrypted_message\n",
    "\n",
    "message = \"Sure, creating such a system requires several steps involving key generation, encryption, and decryption. Here's a high-level example using Python with the paho-mqtt library for MQTT communication and the cryptography library for ECC encryption.Please note that this code is a conceptual example and may need adjustments based on your specific requirements and libraries. Also, ensure you have the necessary libraries installed (paho-mqtt and cryptography).\"\n",
    "\n",
    "print(cloud_pubKey)\n",
    "encrypted_message = ecc_encrypt(message, client_privKey, cloud_pubKey)\n",
    "print(\"Encrypted:\", encrypted_message)\n",
    "print(\"Public_Client:\", client_pubKey)\n",
    "print(\"Public_Cloud:\", cloud_pubKey)\n",
    "print(\"SHARED_1:\", shared_key(client_privKey, cloud_pubKey))\n",
    "print(\"SHARED_2:\", shared_key(cloud_privKey, client_pubKey))\n",
    "decrypted_message = ecc_decrypt(encrypted_message, cloud_privKey, client_pubKey)\n",
    "print(\"Decrypted:\", decrypted_message)\n"
   ]
  }
 ],
 "metadata": {
  "kernelspec": {
   "display_name": "env",
   "language": "python",
   "name": "python3"
  },
  "language_info": {
   "codemirror_mode": {
    "name": "ipython",
    "version": 3
   },
   "file_extension": ".py",
   "mimetype": "text/x-python",
   "name": "python",
   "nbconvert_exporter": "python",
   "pygments_lexer": "ipython3",
   "version": "3.11.5"
  }
 },
 "nbformat": 4,
 "nbformat_minor": 2
}
